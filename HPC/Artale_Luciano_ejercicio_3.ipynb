{
  "nbformat": 4,
  "nbformat_minor": 0,
  "metadata": {
    "colab": {
      "name": "Artale_Luciano_ejercicio_3.ipynb",
      "provenance": [],
      "authorship_tag": "ABX9TyPebRVDLOSxyJb9R0+Q6X0b",
      "include_colab_link": true
    },
    "kernelspec": {
      "name": "python3",
      "display_name": "Python 3"
    }
  },
  "cells": [
    {
      "cell_type": "markdown",
      "metadata": {
        "id": "view-in-github",
        "colab_type": "text"
      },
      "source": [
        "<a href=\"https://colab.research.google.com/github/LuArtale/SkyPhotoTips/blob/master/HPC/Artale_Luciano_ejercicio_3.ipynb\" target=\"_parent\"><img src=\"https://colab.research.google.com/assets/colab-badge.svg\" alt=\"Open In Colab\"/></a>"
      ]
    },
    {
      "cell_type": "markdown",
      "metadata": {
        "id": "5HkJFk5BJLYv"
      },
      "source": [
        "#Ejercicio 3: Aproximacion del numero \"e\" utilizando OpenMP"
      ]
    },
    {
      "cell_type": "markdown",
      "metadata": {
        "id": "qtpBDqIrP6Ri"
      },
      "source": [
        "## Introduccion:\n",
        "\n",
        "Para explorar la plataforma y los recursos que ofrece Colab decidi desarrollar una funcion que calcule una aproximacion del numero e con las funciones de la biblioteca OpenMP "
      ]
    },
    {
      "cell_type": "markdown",
      "metadata": {
        "id": "j_o9kOdnQrGE"
      },
      "source": [
        "## Armado del ambiente:\n",
        "\n",
        "El ambiente de ejecucion utiliza la CPU y sus distintos nucleos para ejecutar este ejercicio. Luego de seleccionar la opcion de ambiente \"None\" se debe ejecutar la seccion de codigo que contiene el codigo principal en C++. Siguiente a esto se debe ejecutar la seccion que genera el archivo objeto, y finalmente se deben indicar los parametros deseados en la ultima seccion y ejecutar el ejercicio propiamente dicho."
      ]
    },
    {
      "cell_type": "markdown",
      "metadata": {
        "id": "WhZWoOFpcYiI"
      },
      "source": [
        "## Codigo principal para OpenMP en C++"
      ]
    },
    {
      "cell_type": "code",
      "metadata": {
        "id": "PPp__ec_Y90H"
      },
      "source": [
        "# Codigo Python, que tiene el código C de la ejecución Axpy.\n",
        "code = \"\"\"\n",
        "#include <iostream>\n",
        "#include <vector>\n",
        "#include <cstdlib>\n",
        "#include <sys/time.h>\n",
        "#include <omp.h>    // Cabecera OpenMP  \n",
        "#include <math.h>  \n",
        "\n",
        "// ----------------------------------------------------------------------------\n",
        "// Macros que miden el tiempo.\n",
        "\n",
        "static double dHashTiempoHistory[3];\n",
        "static struct timeval tv;\n",
        "\n",
        "#define TIEMPO_INI( h )      \\\n",
        "   gettimeofday(&tv,NULL);   \\\n",
        "   dHashTiempoHistory[ h ] = tv.tv_sec + tv.tv_usec/1000000.0;\n",
        "   \n",
        "   \n",
        "#define TIEMPO_FIN( h )      \\\n",
        "   gettimeofday(&tv,NULL);   \\\n",
        "   dHashTiempoHistory[ h ] = ((tv.tv_sec + tv.tv_usec/1000000.0) - dHashTiempoHistory[ h ]) * 1000; // Devuelvo en milisegundos\n",
        "#define TIEMPO_GET( h ) dHashTiempoHistory[ h ]\n",
        "\n",
        "#define HTH_TOTAL         1\n",
        "#define HTH_NUME_SEC      2\n",
        "#define HTH_NUME_OMP      3\n",
        "\n",
        "// ----------------------------------------------------------------------------\n",
        "\n",
        "int main(int argc, char* argv[]) \n",
        "{ \n",
        "  int i,c,j;\n",
        "  float val_e_sec, val_e_omp;\n",
        "  TIEMPO_INI( HTH_TOTAL )\n",
        "\n",
        "  // Leo los parametros.\n",
        "  if( argc != 3 )\n",
        "  {\n",
        "      std::cerr<< \" Error en los parametros de indicar: (Nivel de aproximacion), (Ciclos de ejecucion).\"<<argc<<std::endl;\n",
        "      exit( -1 );\n",
        "  }\n",
        "\n",
        "  int nivel_de_aproximacion = atoi( argv[1] );\n",
        "  int ciclos = atoi( argv[2] );\n",
        "\n",
        "  // --------------------------------------------\n",
        "  // Realizo la función e en forma secuencial.\n",
        "\n",
        "  TIEMPO_INI( HTH_NUME_SEC )\n",
        "\n",
        "  for(c=0;c<ciclos;c++)\n",
        "  {\n",
        "    val_e_sec = 1.0;\n",
        "    \n",
        "    for(i=1;i<=nivel_de_aproximacion;i++)\n",
        "    {\n",
        "      float divRes = (float)1 / (float)i;\n",
        "      val_e_sec *= (float)((float)1 + divRes);\n",
        "      //std::cout<<\"Ciclo: \"<<c<<\", Valor \"<<i<<\" de numero e = \"<<val_e_sec<<\", divRes = \"<<divRes<<std::endl;\n",
        "    }\n",
        "\n",
        "    //std::cout<<\"Ciclo: \"<<c<<\", Valor numero e = \"<<val_e_sec<<std::endl;\n",
        "  }\n",
        "\n",
        "  TIEMPO_FIN( HTH_NUME_SEC )\n",
        "\n",
        "  // --------------------------------------------\n",
        "  // Realizo la función e con OpenMP.\n",
        "\n",
        "  TIEMPO_INI( HTH_NUME_OMP )\n",
        "\n",
        "  for(c=0;c<ciclos;c++)\n",
        "  {\n",
        "    val_e_omp = 1.0;\n",
        "\n",
        "    //SECCION PARALELA//\n",
        "    #pragma omp parallel for reduction(*: val_e_omp)\n",
        "    for(i=1;i<=nivel_de_aproximacion;i++)\n",
        "    {\n",
        "      float divRes = (float)1 / (float)i;\n",
        "      val_e_sec *= (float)((float)1 + divRes);\n",
        "      //std::cout<<\"Ciclo: \"<<c<<\", Valor \"<<i<<\" de numero e = \"<<val_e_omp<<\", divRes = \"<<divRes<<std::endl;\n",
        "    }\n",
        "    //SECCION PARALELA//\n",
        "\n",
        "    //std::cout<<\"Ciclo: \"<<c<<\", Valor numero e = \"<<val_e_omp<<std::endl;\n",
        "  }\n",
        "\n",
        "  TIEMPO_FIN( HTH_NUME_OMP )\n",
        "\n",
        "  // --------------------------------------------\n",
        "  // Muestro los resultados.\n",
        "  std::cout<<\"Resultados:\"<<std::endl;\n",
        "  std::cout<<\"Nivel de aproximacion: \"<<nivel_de_aproximacion<<std::endl;\n",
        "  std::cout<<\"Aproximaciones del numero e: \"<<std::endl;\n",
        "  std::cout<<\"* Calculado secuencialmnte: \"<<val_e_sec<<std::endl;\n",
        "  std::cout<<\"* Calculado paralelamente con OpenMP: \"<<val_e_omp<<std::endl;\n",
        "\n",
        "  TIEMPO_FIN( HTH_TOTAL )\n",
        "\n",
        " std::cout<<std::endl;\n",
        " std::cout<<\"Valores Reales  :\" <<std::endl;\n",
        " std::cout<<\"Tiempo TOTAL     : \"<<TIEMPO_GET(HTH_TOTAL   )<<\" [ms]\"<<std::endl;\n",
        " std::cout<<\"Tiempo axpy Sec  : \"<<TIEMPO_GET(HTH_NUME_SEC)<<\" [ms]\"<<std::endl;\n",
        " std::cout<<\"Tiempo axpy Omp  : \"<<TIEMPO_GET(HTH_NUME_OMP)<<\" [ms]\"<<std::endl;\n",
        " std::cout<<std::endl;\n",
        " std::cout<<\"SpeedUp          : (tiempo Secuencial/tiempo paralelo) : \"<<TIEMPO_GET(HTH_NUME_SEC)<<\" / \"<<TIEMPO_GET(HTH_NUME_OMP)<<\" = \"<<TIEMPO_GET(HTH_NUME_SEC)/TIEMPO_GET(HTH_NUME_OMP)<<std::endl;\n",
        " std::cout<<\"Eficiencia       : SpeedUp/nro procesadores            : \"<<TIEMPO_GET(HTH_NUME_SEC)/TIEMPO_GET(HTH_NUME_OMP)<<\" / \"<<omp_get_num_procs()<<\" = \"<<TIEMPO_GET(HTH_NUME_SEC)/(omp_get_num_procs()*TIEMPO_GET(HTH_NUME_OMP))<<std::endl;\n",
        " std::cout<<\"Coste Sec        : nro procesadores*Tiempo             : \"<<1<<\" * \"<<TIEMPO_GET(HTH_NUME_SEC)<<\" = \"<<TIEMPO_GET(HTH_NUME_SEC)<<std::endl;\n",
        " std::cout<<\"Coste Omp        : nro procesadores*Tiempo             : \"<<omp_get_num_procs()<<\" * \"<<TIEMPO_GET(HTH_NUME_OMP)<<\" = \"<<omp_get_num_procs()*TIEMPO_GET(HTH_NUME_OMP)<<std::endl;\n",
        " std::cout<<\"Funcion Overhead : Coste Omp - tiempo Secuencial       : \"<<omp_get_num_procs()*TIEMPO_GET(HTH_NUME_OMP)<<\" - \"<<TIEMPO_GET(HTH_NUME_SEC)<<\" = \"<<(omp_get_num_procs()*TIEMPO_GET(HTH_NUME_OMP))-TIEMPO_GET(HTH_NUME_SEC)<<std::endl;\n",
        "\n",
        "\n",
        " std::cout<<std::endl;\n",
        " std::cout<<\"Valores Ideal: \"<<std::endl;\n",
        " TIEMPO_GET(HTH_NUME_OMP) = TIEMPO_GET(HTH_NUME_SEC) / 2;\n",
        " std::cout<<\"Tiempo axpy Sec  : \"<<TIEMPO_GET(HTH_NUME_SEC)<<\" [ms]\"<<std::endl;\n",
        " std::cout<<\"Tiempo axpy Omp  : \"<<TIEMPO_GET(HTH_NUME_OMP)<<\" [ms]\"<<std::endl;\n",
        "\n",
        " std::cout<<\"SpeedUp          : (tiempo Secuencial/tiempo paralelo) : \"<<TIEMPO_GET(HTH_NUME_SEC)<<\" / \"<<TIEMPO_GET(HTH_NUME_OMP)<<\" = \"<<TIEMPO_GET(HTH_NUME_SEC)/TIEMPO_GET(HTH_NUME_OMP)<<std::endl;\n",
        " std::cout<<\"Eficiencia       : SpeedUp/nro procesadores            : \"<<TIEMPO_GET(HTH_NUME_SEC)/TIEMPO_GET(HTH_NUME_OMP)<<\" / \"<<omp_get_num_procs()<<\" = \"<<TIEMPO_GET(HTH_NUME_SEC)/(omp_get_num_procs()*TIEMPO_GET(HTH_NUME_OMP))<<std::endl;\n",
        " std::cout<<\"Coste Sec        : nro procesadores*Tiempo             : \"<<1<<\" * \"<<TIEMPO_GET(HTH_NUME_SEC)<<\" = \"<<TIEMPO_GET(HTH_NUME_SEC)<<std::endl;\n",
        " std::cout<<\"Coste Omp        : nro procesadores*Tiempo             : \"<<omp_get_num_procs()<<\" * \"<<TIEMPO_GET(HTH_NUME_OMP)<<\" = \"<<omp_get_num_procs()*TIEMPO_GET(HTH_NUME_OMP)<<std::endl;\n",
        " std::cout<<\"Funcion Overhead : Coste Omp - tiempo Secuencial       : \"<<omp_get_num_procs()*TIEMPO_GET(HTH_NUME_OMP)<<\" - \"<<TIEMPO_GET(HTH_NUME_SEC)<<\" = \"<<(omp_get_num_procs()*TIEMPO_GET(HTH_NUME_OMP))-TIEMPO_GET(HTH_NUME_SEC)<<std::endl;\n",
        "\n",
        "\n",
        "}\n",
        "// ----------------------------------------------------------------------------\n",
        "\n",
        "\"\"\"\n",
        "text_file = open(\"code_axpy.cpp\", \"w\")\n",
        "text_file.write(code)\n",
        "text_file.close()"
      ],
      "execution_count": 1,
      "outputs": []
    },
    {
      "cell_type": "markdown",
      "metadata": {
        "id": "43WdQQaRciNV"
      },
      "source": [
        "## Generar archivo objeto mediante el compilador de c++:"
      ]
    },
    {
      "cell_type": "code",
      "metadata": {
        "id": "QMv7gCsSISji"
      },
      "source": [
        "!g++ -o axpy -fopenmp code_axpy.cpp"
      ],
      "execution_count": 2,
      "outputs": []
    },
    {
      "cell_type": "markdown",
      "metadata": {
        "id": "YIs-Nf7acoW3"
      },
      "source": [
        "## Ejecutar ejercicio compilado:\n",
        "\n",
        "Indicar como parametro de la constante OMP_NUM_THREADS la cantidad de hilos y como parametros de llamado a la funcion el nivel de aproximacion (numero del 1 a 1000000) y cantidad de ciclos de ejecucion"
      ]
    },
    {
      "cell_type": "code",
      "metadata": {
        "colab": {
          "base_uri": "https://localhost:8080/"
        },
        "id": "-swdJ7uXUvt6",
        "outputId": "833335aa-2967-44d2-c4a3-6463409e1238"
      },
      "source": [
        "#@title Parámetros de ejecución { vertical-output: true }\n",
        "# Parametros\n",
        "cantidad_de_hilos = 4#@param {type: \"number\"}\n",
        "nivel_de_aproximacion = 3#@param {type: \"number\"}\n",
        "ciclos_de_ejecucion = 10#@param {type: \"number\"}\n",
        "\n",
        "%env OMP_NUM_THREADS=cantidad_de_hilos\n",
        "!./axpy nivel_de_aproximacion ciclos_de_ejecucion"
      ],
      "execution_count": 3,
      "outputs": [
        {
          "output_type": "stream",
          "text": [
            "env: OMP_NUM_THREADS=cantidad_de_hilos\n",
            "\n",
            "libgomp: Invalid value for environment variable OMP_NUM_THREADS\n",
            "Resultados:\n",
            "Nivel de aproximacion: 0\n",
            "Aproximaciones del numero e: \n",
            "* Calculado secuencialmnte: -8.81734e+37\n",
            "* Calculado paralelamente con OpenMP: 3.0907e-41\n",
            "\n",
            "Valores Reales  :\n",
            "Tiempo TOTAL     : 0.0600815 [ms]\n",
            "Tiempo axpy Sec  : 0 [ms]\n",
            "Tiempo axpy Omp  : 0 [ms]\n",
            "\n",
            "SpeedUp          : (tiempo Secuencial/tiempo paralelo) : 0 / 0 = -nan\n",
            "Eficiencia       : SpeedUp/nro procesadores            : -nan / 2 = -nan\n",
            "Coste Sec        : nro procesadores*Tiempo             : 1 * 0 = 0\n",
            "Coste Omp        : nro procesadores*Tiempo             : 2 * 0 = 0\n",
            "Funcion Overhead : Coste Omp - tiempo Secuencial       : 0 - 0 = 0\n",
            "\n",
            "Valores Ideal: \n",
            "Tiempo axpy Sec  : 0 [ms]\n",
            "Tiempo axpy Omp  : 0 [ms]\n",
            "SpeedUp          : (tiempo Secuencial/tiempo paralelo) : 0 / 0 = -nan\n",
            "Eficiencia       : SpeedUp/nro procesadores            : -nan / 2 = -nan\n",
            "Coste Sec        : nro procesadores*Tiempo             : 1 * 0 = 0\n",
            "Coste Omp        : nro procesadores*Tiempo             : 2 * 0 = 0\n",
            "Funcion Overhead : Coste Omp - tiempo Secuencial       : 0 - 0 = 0\n"
          ],
          "name": "stdout"
        }
      ]
    },
    {
      "cell_type": "markdown",
      "metadata": {
        "id": "z4UC9UFvjCK_"
      },
      "source": [
        "## Bibliografia:\n",
        "\n",
        "\n",
        "\n",
        "*   https://soymatematicas.com/numero-e/#:~:text=Al%20igual%20que%20%CF%80%2C%20el,de%20e%20es%202'7182818284%20%E2%80%A6\n",
        "*   https://github.com/wvaliente/SOA_HPC/blob/main/Ejercicios/Prueba%201%20-%20Vectores%20-%20OpenMP.ipynb\n",
        "\n"
      ]
    }
  ]
}