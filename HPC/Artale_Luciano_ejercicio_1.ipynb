{
  "nbformat": 4,
  "nbformat_minor": 0,
  "metadata": {
    "colab": {
      "name": "Artale_Luciano_ejercicio_1.ipynb",
      "provenance": [],
      "authorship_tag": "ABX9TyNyHVPnif+E/xfPVXgecH4B",
      "include_colab_link": true
    },
    "kernelspec": {
      "name": "python3",
      "display_name": "Python 3"
    },
    "accelerator": "GPU"
  },
  "cells": [
    {
      "cell_type": "markdown",
      "metadata": {
        "id": "view-in-github",
        "colab_type": "text"
      },
      "source": [
        "<a href=\"https://colab.research.google.com/github/LuArtale/SkyPhotoTips/blob/master/HPC/Artale_Luciano_ejercicio_1.ipynb\" target=\"_parent\"><img src=\"https://colab.research.google.com/assets/colab-badge.svg\" alt=\"Open In Colab\"/></a>"
      ]
    },
    {
      "cell_type": "markdown",
      "metadata": {
        "id": "rgCUzYyKMF4S"
      },
      "source": [
        "# **Ejercicio 1: Invertir Vector**\n",
        "\n",
        "\n"
      ]
    },
    {
      "cell_type": "markdown",
      "metadata": {
        "id": "SdjakVuWXh7U"
      },
      "source": [
        "## Introduccion:\n",
        "\n",
        "En este cuaderno se demuestran las diferencias de ejecucion para una funcion que tiene como objetivo la inversion de un vector utilizando primero la ejecucion en CPU con python y luego la ejecucion en GPGPU con python y CUDA."
      ]
    },
    {
      "cell_type": "markdown",
      "metadata": {
        "id": "N4yWZ-bLbMPM"
      },
      "source": [
        "## Armado del ambiente:\n",
        "\n",
        "Para poder ejecutar el ejercicio en CPU no se debe ejecutar ningun comando previo, pero para ejecutarlo en GPGPU se debe correr la seccion llamada \"Instalacion CUDA para Python\". \n",
        "Para ambos casos, se debe indicar como parametro la cantidad de elementos del vector a invertir (los mismos son numeros decimales generados de forma aleatoria) y el valor maximo y minimo que pueden tomar esos elementos.\n",
        "\n",
        "Ademas de esto, para CPU se debe seleccionar el entorno de ejecucion \"None\" y para GPGPU se debe seleccionar el entorno \"GPU\"."
      ]
    },
    {
      "cell_type": "markdown",
      "metadata": {
        "id": "zY7bXCT6Nu7a"
      },
      "source": [
        "## **Desarrollo para CPU:**"
      ]
    },
    {
      "cell_type": "code",
      "metadata": {
        "colab": {
          "base_uri": "https://localhost:8080/"
        },
        "id": "9qEjDLGTIr83",
        "outputId": "e91b5b06-fdb6-477a-c266-bad5409a7840"
      },
      "source": [
        "#@title Parámetros de ejecución CPU { vertical-output: true }\n",
        "# Parametros\n",
        "cantidad_elementos = 100#@param {type: \"integer\"}\n",
        "limite_inferior = -5#@param {type: \"number\"}\n",
        "limite_superior = 5#@param {type: \"number\"}\n",
        "\n",
        "try:\n",
        "  if cantidad_elementos > 0 :\n",
        "\n",
        "    # --------------------------------------------\n",
        "    # Importacion de bibliotecas\n",
        "    from datetime import datetime\n",
        "    tiempo_total = datetime.now()\n",
        "    import numpy\n",
        "\n",
        "    # --------------------------------------------\n",
        "    # Definición de función que transforma el tiempo en  milisegundos \n",
        "    tiempo_en_ms = lambda dt:(dt.days * 24 * 60 * 60 + dt.seconds) * 1000 + dt.microseconds / 1000.0\n",
        "\n",
        "    # --------------------------------------------\n",
        "    # Defino la memoria de los vectores en cpu\n",
        "    vector_original_cpu = numpy.random.uniform( limite_inferior, limite_superior, cantidad_elementos )\n",
        "    vector_original_cpu = vector_original_cpu.astype( numpy.float32() )\n",
        "\n",
        "    # El vector resultado (invertido) se define vacio\n",
        "    vector_invertido_cpu = numpy.empty_like( vector_original_cpu )\n",
        "\n",
        "    # --------------------------------------------\n",
        "    # Realizo la inversion de vectores\n",
        "\n",
        "    tiempo_bucle_inversion = datetime.now()\n",
        "\n",
        "    # Solo se recorre hasta la mitad del vector ya que se procesan 2 posiciones a la vez\n",
        "    cantidad_a_recorrer = cantidad_elementos // 2\n",
        "\n",
        "    # Bucle de inversion\n",
        "    for idx in range( 0, cantidad_a_recorrer ):\n",
        "      vector_invertido_cpu[idx] = vector_original_cpu[cantidad_elementos-idx-1]\n",
        "      vector_invertido_cpu[cantidad_elementos-idx-1] = vector_original_cpu[idx]\n",
        "\n",
        "    tiempo_bucle_inversion = datetime.now() - tiempo_bucle_inversion\n",
        "\n",
        "    # --------------------------------------------\n",
        "    # Redondeo los elementos de los vectores a dos decimales\n",
        "    vector_original_cpu_rounded = [round(x,2) for x in vector_original_cpu]\n",
        "    vector_invertido_cpu_rounded = [round(x,2) for x in vector_invertido_cpu]\n",
        "\n",
        "    # Informo los resultados\n",
        "    print( \"Cantidad de elementos: \", cantidad_elementos )\n",
        "    print( \"------------------------------------\")\n",
        "\n",
        "    print(\"Vectores: \")\n",
        "    print( \"* Vector Original: \" )\n",
        "    print( vector_original_cpu_rounded )\n",
        "    print( \"------------------------------------\")\n",
        "    print( \"* Vector Invertido: \" )\n",
        "    print( vector_invertido_cpu_rounded )\n",
        "    print( \"------------------------------------\")\n",
        "\n",
        "    tiempo_total = datetime.now() - tiempo_total\n",
        "\n",
        "    print(\"Tiempos de ejecucion en CPU: \")\n",
        "    print(\"* Tiempo Total: \", tiempo_en_ms( tiempo_total ), \"[ms]\" )\n",
        "    print(\"* Tiempo inversion del vector: \", tiempo_en_ms( tiempo_bucle_inversion ), \"[ms]\" )\n",
        "\n",
        "  else:\n",
        "    print(\"La cantidad de elementos debe ser mayor a cero\")\n",
        "\n",
        "except Exception as excp:\n",
        "  print(\"Error de tipo: \", type(excp))\n",
        "  print(\"Datos del error: \", excp.args)\n",
        "\n"
      ],
      "execution_count": 5,
      "outputs": [
        {
          "output_type": "stream",
          "text": [
            "Cantidad de elementos:  100\n",
            "------------------------------------\n",
            "Vectores: \n",
            "* Vector Original: \n",
            "[-0.63, 4.35, 4.45, 4.21, -1.31, 0.32, -3.33, 4.37, -4.24, -4.14, 1.67, -3.52, 4.73, 2.78, 3.43, -3.21, 2.25, -2.26, -0.12, -0.35, 3.5, 4.65, -4.95, -4.4, -1.23, -0.58, 2.05, 0.42, -4.23, -2.67, -0.88, -1.59, -0.9, 0.19, 2.6, -2.22, 3.8, -4.71, 0.63, -3.19, 3.41, -2.74, -4.69, 3.23, -1.76, -2.68, -1.37, -0.62, -3.83, 4.3, -4.32, -1.76, -4.44, 0.11, 2.99, -1.14, -3.11, 4.82, 3.6, 0.76, 3.01, 4.41, 1.42, 4.36, -1.95, 4.92, -3.18, 3.68, 4.53, -2.37, 3.06, 2.0, 1.25, 3.81, 0.77, -2.47, -4.58, -0.66, 1.44, 0.98, -2.96, 2.26, 1.07, -2.74, -0.01, 2.18, 2.24, 1.71, 4.45, 4.57, 1.53, -4.27, -1.63, -1.06, 2.96, 1.51, -0.61, 2.57, 0.65, -4.45]\n",
            "------------------------------------\n",
            "* Vector Invertido: \n",
            "[-4.45, 0.65, 2.57, -0.61, 1.51, 2.96, -1.06, -1.63, -4.27, 1.53, 4.57, 4.45, 1.71, 2.24, 2.18, -0.01, -2.74, 1.07, 2.26, -2.96, 0.98, 1.44, -0.66, -4.58, -2.47, 0.77, 3.81, 1.25, 2.0, 3.06, -2.37, 4.53, 3.68, -3.18, 4.92, -1.95, 4.36, 1.42, 4.41, 3.01, 0.76, 3.6, 4.82, -3.11, -1.14, 2.99, 0.11, -4.44, -1.76, -4.32, 4.3, -3.83, -0.62, -1.37, -2.68, -1.76, 3.23, -4.69, -2.74, 3.41, -3.19, 0.63, -4.71, 3.8, -2.22, 2.6, 0.19, -0.9, -1.59, -0.88, -2.67, -4.23, 0.42, 2.05, -0.58, -1.23, -4.4, -4.95, 4.65, 3.5, -0.35, -0.12, -2.26, 2.25, -3.21, 3.43, 2.78, 4.73, -3.52, 1.67, -4.14, -4.24, 4.37, -3.33, 0.32, -1.31, 4.21, 4.45, 4.35, -0.63]\n",
            "------------------------------------\n",
            "Tiempos de ejecucion en CPU: \n",
            "* Tiempo Total:  2.286 [ms]\n",
            "* Tiempo inversion del vector:  0.096 [ms]\n"
          ],
          "name": "stdout"
        }
      ]
    },
    {
      "cell_type": "markdown",
      "metadata": {
        "id": "0Vy5psYHwyD1"
      },
      "source": [
        "### Tabla de pasos CPU:\n",
        "\n",
        "Procesador | Funcion | Detalle\n",
        "---------- | ------- | --------\n",
        "CPU | @param | Lectura de tamaño y limites de los vectores\n",
        "CPU | import | Importacion de las bibliotecas a utilizar\n",
        "CPU | datetime.now() | Se lee el tiempo inicial total\n",
        "CPU | numpy.random.uniform() | Creacion del vector original y asignacion de su memoria\n",
        "CPU | numpy.empty_like( vector_original_cpu ) | Asignacion de memoria para el vector invertido\n",
        "CPU | datetime.now() | Se lee el tiempo inicial del bucle\n",
        "CPU | for | Inversion de un vector copiandose en el otro\n",
        "CPU | datetime.now() | Se lee el tiempo final del bucle\n",
        "CPU | round() | Redondeo de los elementos de los vectores\n",
        "CPU | datetime.now() | Se lee el tiempo final total"
      ]
    },
    {
      "cell_type": "markdown",
      "metadata": {
        "id": "EkrCsgE5GATR"
      },
      "source": [
        "### Conclusiones CPU:\n",
        "\n",
        "Como se puede ver en el codigo anterior, la ventaja de la forma secuencial de ejecucion de este algoritmo (para ejecutar en CPU) es que es realtivamente simple y seguramente se podria simplificar mas, pero se escribio asi el codigo para que haya mayor similitud con el codigo de GPU y para facilitar su legibilidad. \n",
        "\n",
        "Sin embargo, su desventaja es que operar con vectores de forma secuencial hace que todo el proceso sea algo lento y eso se nota aun mas cuando se tienen vectores con muchos elementos. Debido a que una CPU moderna suele tener aproximadamente 4 unidades aritmetico logicas (ALU), las operaciones normales no se realizan de forma concurrente en gran cantidad y para poder ejecutar una operacion se debe esperar a que termine la anterior.\n",
        "\n",
        "Por ejemplo, para un vector de 100 elementos el bucle de inversion tarda cerca de 0,07 ms y el total del algoritmo tarda cerca de 3,35 ms. En cambio, para un vector de 10.000 elementos, el bucle tarda cerca de 5,02 ms y el total 122,59 ms.\n",
        "\n",
        "Por lo tanto, esta forma de ejecucion es mas apta para la mayoria de los casos y especialmente en los que se tenga una baja cantidad de datos a procesar y donde los datos dependan entre si para su procesamiento, ya que si no dependen se podria mejorar mediante la paralelizacion que se vera a continuacion."
      ]
    },
    {
      "cell_type": "markdown",
      "metadata": {
        "id": "f4t_AJ8TN1RV"
      },
      "source": [
        "## **Desarrollo para GPGPU:**"
      ]
    },
    {
      "cell_type": "markdown",
      "metadata": {
        "id": "LrGnoNUKN5aO"
      },
      "source": [
        "### Instalacion CUDA para Python"
      ]
    },
    {
      "cell_type": "code",
      "metadata": {
        "colab": {
          "base_uri": "https://localhost:8080/"
        },
        "id": "JS_dv7gLOAIi",
        "outputId": "519971be-c3a1-4718-e7a8-5f325b4d703b"
      },
      "source": [
        "!pip install pycuda"
      ],
      "execution_count": 1,
      "outputs": [
        {
          "output_type": "stream",
          "text": [
            "Collecting pycuda\n",
            "\u001b[?25l  Downloading https://files.pythonhosted.org/packages/46/61/47d3235a4c13eec5a5f03594ddb268f4858734e02980afbcd806e6242fa5/pycuda-2020.1.tar.gz (1.6MB)\n",
            "\u001b[K     |████████████████████████████████| 1.6MB 13.5MB/s \n",
            "\u001b[?25hCollecting pytools>=2011.2\n",
            "\u001b[?25l  Downloading https://files.pythonhosted.org/packages/b7/30/c9362a282ef89106768cba9d884f4b2e4f5dc6881d0c19b478d2a710b82b/pytools-2020.4.3.tar.gz (62kB)\n",
            "\u001b[K     |████████████████████████████████| 71kB 11.8MB/s \n",
            "\u001b[?25hRequirement already satisfied: decorator>=3.2.0 in /usr/local/lib/python3.6/dist-packages (from pycuda) (4.4.2)\n",
            "Collecting appdirs>=1.4.0\n",
            "  Downloading https://files.pythonhosted.org/packages/3b/00/2344469e2084fb287c2e0b57b72910309874c3245463acd6cf5e3db69324/appdirs-1.4.4-py2.py3-none-any.whl\n",
            "Collecting mako\n",
            "\u001b[?25l  Downloading https://files.pythonhosted.org/packages/a6/37/0e706200d22172eb8fa17d68a7ae22dec7631a0a92266634fb518a88a5b2/Mako-1.1.3-py2.py3-none-any.whl (75kB)\n",
            "\u001b[K     |████████████████████████████████| 81kB 13.6MB/s \n",
            "\u001b[?25hRequirement already satisfied: six>=1.8.0 in /usr/local/lib/python3.6/dist-packages (from pytools>=2011.2->pycuda) (1.15.0)\n",
            "Requirement already satisfied: numpy>=1.6.0 in /usr/local/lib/python3.6/dist-packages (from pytools>=2011.2->pycuda) (1.18.5)\n",
            "Requirement already satisfied: dataclasses>=0.7 in /usr/local/lib/python3.6/dist-packages (from pytools>=2011.2->pycuda) (0.8)\n",
            "Requirement already satisfied: MarkupSafe>=0.9.2 in /usr/local/lib/python3.6/dist-packages (from mako->pycuda) (1.1.1)\n",
            "Building wheels for collected packages: pycuda, pytools\n",
            "  Building wheel for pycuda (setup.py) ... \u001b[?25l\u001b[?25hdone\n",
            "  Created wheel for pycuda: filename=pycuda-2020.1-cp36-cp36m-linux_x86_64.whl size=620775 sha256=ccb88e58e73e99f42f22f24921f58b93ddb2b6fad5531f04f1a80408fb5d8225\n",
            "  Stored in directory: /root/.cache/pip/wheels/8f/78/d1/5bb826f81d9d490297a348d818ff3ee6dd6f2075b06dde6ea0\n",
            "  Building wheel for pytools (setup.py) ... \u001b[?25l\u001b[?25hdone\n",
            "  Created wheel for pytools: filename=pytools-2020.4.3-py2.py3-none-any.whl size=61374 sha256=557bbee04a5e1eb802723c1da17ae766cc5debb2da70ec5459fb566c12d054a6\n",
            "  Stored in directory: /root/.cache/pip/wheels/af/c7/81/a22edb90b0b09a880468b2253bb1df8e9f503337ee15432c64\n",
            "Successfully built pycuda pytools\n",
            "Installing collected packages: appdirs, pytools, mako, pycuda\n",
            "Successfully installed appdirs-1.4.4 mako-1.1.3 pycuda-2020.1 pytools-2020.4.3\n"
          ],
          "name": "stdout"
        }
      ]
    },
    {
      "cell_type": "markdown",
      "metadata": {
        "id": "HJEYMAcTOD4p"
      },
      "source": [
        "### Ejecucion"
      ]
    },
    {
      "cell_type": "code",
      "metadata": {
        "colab": {
          "base_uri": "https://localhost:8080/"
        },
        "id": "iLH_WlYKOIok",
        "outputId": "3e9d51d1-a677-4355-aa7e-36e86f579f3f"
      },
      "source": [
        "#@title Parámetros de ejecución GPGPU { vertical-output: true }\n",
        "# Parametros\n",
        "cantidad_elementos = 100#@param {type: \"integer\"}\n",
        "limite_inferior = -5#@param {type: \"number\"}\n",
        "limite_superior = 5#@param {type: \"number\"}\n",
        "\n",
        "try:\n",
        "  if cantidad_elementos > 0 :\n",
        "\n",
        "    # --------------------------------------------\n",
        "    # Importacion de bibliotecas\n",
        "    from datetime import datetime\n",
        "    tiempo_total = datetime.now()\n",
        "\n",
        "    import pycuda.driver as cuda\n",
        "    import pycuda.autoinit\n",
        "    from pycuda.compiler import SourceModule\n",
        "\n",
        "    import numpy\n",
        "\n",
        "    # --------------------------------------------\n",
        "    # Definición de función que transforma el tiempo en  milisegundos \n",
        "    tiempo_en_ms = lambda dt:(dt.days * 24 * 60 * 60 + dt.seconds) * 1000 + dt.microseconds / 1000.0\n",
        "\n",
        "\n",
        "    # --------------------------------------------\n",
        "    # Defino la memoria de los vectores en cpu\n",
        "    vector_original_cpu = numpy.random.uniform( limite_inferior, limite_superior, cantidad_elementos )\n",
        "    vector_original_cpu = vector_original_cpu.astype( numpy.float32() )\n",
        "\n",
        "    # El vector resultado (invertido) se define vacio\n",
        "    vector_invertido_cpu = numpy.empty_like( vector_original_cpu )\n",
        "\n",
        "    # CPU - Reservo la memoria GPU.\n",
        "    vector_original_gpu = cuda.mem_alloc( vector_original_cpu.nbytes )\n",
        "    vector_invertido_gpu = cuda.mem_alloc( vector_invertido_cpu.nbytes )\n",
        "\n",
        "    # GPU - Copio la memoria al GPU.\n",
        "    cuda.memcpy_htod( vector_original_gpu, vector_original_cpu )\n",
        "    cuda.memcpy_htod( vector_invertido_gpu, vector_invertido_cpu )\n",
        "\n",
        "    # CPU - Defino la función kernel que ejecutará en GPU\n",
        "    module = SourceModule(\"\"\"\n",
        "    __global__ void kernel_invert( int cant_elementos, float *vec_original, float *vec_invertido )\n",
        "    {\n",
        "      int idx = threadIdx.x + blockIdx.x*blockDim.x;\n",
        "      int cantidad_a_recorrer = cant_elementos / 2;\n",
        "\n",
        "      if( idx < cantidad_a_recorrer )\n",
        "      {\n",
        "        vec_invertido[idx] = vec_original[cant_elementos-idx-1];\n",
        "        vec_invertido[cant_elementos-idx-1] = vec_original[idx];\n",
        "      }\n",
        "    }\n",
        "    \"\"\") \n",
        "    # CPU - Genero la función kernel.\n",
        "    kernel = module.get_function(\"kernel_invert\")\n",
        "\n",
        "    tiempo_gpu = datetime.now()\n",
        "\n",
        "    # GPU - Defino los tamaños de bloque y cantidad de hilos.\n",
        "    dim_hilo = 256 \n",
        "    dim_bloque = numpy.int( (cantidad_elementos+dim_hilo-1) / dim_hilo )\n",
        "    print( \"Thread x: \", dim_hilo, \", Bloque x:\", dim_bloque )\n",
        "    print( \"Cantidad de elementos: \", cantidad_elementos )\n",
        "    print( \"------------------------------------\")\n",
        "\n",
        "    # Llamo a ejecutar el kernel con el codigo declarado arriba\n",
        "    kernel( numpy.int32(cantidad_elementos), vector_original_gpu, vector_invertido_gpu, block=( dim_hilo, 1, 1 ),grid=(dim_bloque, 1,1) )\n",
        "\n",
        "    tiempo_gpu = datetime.now() - tiempo_gpu\n",
        "\n",
        "    # GPU - Copio el resultado desde la memoria GPU.\n",
        "    cuda.memcpy_dtoh( vector_invertido_cpu, vector_invertido_gpu )\n",
        "\n",
        "    # Redondeo los vectores para mostrarlos\n",
        "    vector_original_cpu_rounded = [round(x,2) for x in vector_original_cpu]\n",
        "    vector_invertido_cpu_rounded = [round(x,2) for x in vector_invertido_cpu]\n",
        "\n",
        "    # Informo los resultados\n",
        "    print(\"Vectores: \")\n",
        "    print( \"* Vector Original: \" )\n",
        "    print( vector_original_cpu_rounded )\n",
        "    print( \"------------------------------------\")\n",
        "    print( \"* Vector Invertido: \" )\n",
        "    print( vector_invertido_cpu_rounded )\n",
        "    print( \"------------------------------------\")\n",
        "\n",
        "    tiempo_total = datetime.now() - tiempo_total\n",
        "\n",
        "    print(\"Tiempos de ejecucion: \")\n",
        "    print(\"* Tiempo Total: \", tiempo_en_ms( tiempo_total ), \"[ms]\" )\n",
        "    print(\"* Tiempo GPU: \", tiempo_en_ms( tiempo_gpu   ), \"[ms]\" )\n",
        "\n",
        "  else:\n",
        "    print(\"La cantidad de elementos debe ser mayor a cero\")\n",
        "\n",
        "except Exception as excp:\n",
        "  print(\"Error de tipo: \", type(excp))\n",
        "  print(\"Datos del error: \", excp.args)"
      ],
      "execution_count": 3,
      "outputs": [
        {
          "output_type": "stream",
          "text": [
            "Thread x:  256 , Bloque x: 1\n",
            "Cantidad de elementos:  100\n",
            "------------------------------------\n",
            "Vectores: \n",
            "* Vector Original: \n",
            "[4.35, -4.94, 0.88, -2.89, 0.88, 1.5, -4.53, 0.67, 2.82, -0.38, 2.56, -4.02, -4.76, -3.18, -2.3, -3.7, -3.55, 2.22, 4.14, 0.64, -1.07, -3.54, 2.02, -1.12, -1.33, -4.02, 1.17, -4.79, -4.89, -4.13, -0.02, -3.54, 2.74, 1.54, 4.86, -1.2, -2.56, -2.54, -1.11, -0.35, 0.06, 0.19, -4.58, 4.55, 3.56, 3.16, 4.04, -2.14, 2.94, 0.29, 4.83, 1.73, 1.24, 2.66, 4.27, 1.81, -3.81, 4.33, 2.36, 4.18, -3.06, -2.09, -4.18, -3.78, 1.85, -3.09, -1.18, 0.77, 2.17, -4.62, 4.7, 3.67, -0.46, 1.07, -3.59, 3.18, 2.34, 0.28, 0.86, 3.75, -2.78, 0.34, -4.33, 2.1, -0.61, 4.54, -2.51, -3.26, -4.53, 3.69, -1.37, -1.7, 2.09, -2.86, -4.46, -4.11, -4.57, -2.66, 4.92, -1.62]\n",
            "------------------------------------\n",
            "* Vector Invertido: \n",
            "[-1.62, 4.92, -2.66, -4.57, -4.11, -4.46, -2.86, 2.09, -1.7, -1.37, 3.69, -4.53, -3.26, -2.51, 4.54, -0.61, 2.1, -4.33, 0.34, -2.78, 3.75, 0.86, 0.28, 2.34, 3.18, -3.59, 1.07, -0.46, 3.67, 4.7, -4.62, 2.17, 0.77, -1.18, -3.09, 1.85, -3.78, -4.18, -2.09, -3.06, 4.18, 2.36, 4.33, -3.81, 1.81, 4.27, 2.66, 1.24, 1.73, 4.83, 0.29, 2.94, -2.14, 4.04, 3.16, 3.56, 4.55, -4.58, 0.19, 0.06, -0.35, -1.11, -2.54, -2.56, -1.2, 4.86, 1.54, 2.74, -3.54, -0.02, -4.13, -4.89, -4.79, 1.17, -4.02, -1.33, -1.12, 2.02, -3.54, -1.07, 0.64, 4.14, 2.22, -3.55, -3.7, -2.3, -3.18, -4.76, -4.02, 2.56, -0.38, 2.82, 0.67, -4.53, 1.5, 0.88, -2.89, 0.88, -4.94, 4.35]\n",
            "------------------------------------\n",
            "Tiempos de ejecucion: \n",
            "* Tiempo Total:  5.329 [ms]\n",
            "* Tiempo GPU:  0.278 [ms]\n"
          ],
          "name": "stdout"
        }
      ]
    },
    {
      "cell_type": "markdown",
      "metadata": {
        "id": "_Wd-Ub11pByl"
      },
      "source": [
        "### Tabla de pasos GPU:\n",
        "\n",
        "Procesador | Funcion | Detalle\n",
        "---------- | ------- | --------\n",
        "CPU | @param | Lectura de tamaño y limites de los vectores\n",
        "CPU | import | Importacion de las bibliotecas a utilizar\n",
        "CPU | datetime.now() | Se lee el tiempo inicial total\n",
        "CPU | numpy.random.uniform() | Creacion del vector original y asignacion de su memoria\n",
        "CPU | numpy.empty_like( vector_original_cpu ) | Asignacion de memoria para el vector invertido\n",
        "**GPU** | cuda.mem_alloc() | Reservo la memoria de la GPU para ambos vectores\n",
        "**GPU** | cuda.memcpy_htod() | Copio los vectores de la memoria CPU a GPU\n",
        "CPU | module.get_function(SourceModule()) | Defino y genero al funcion kernel que se ejecutara en GPU\n",
        "CPU | datetime.now() | Se lee el tiempo inicial del bucle\n",
        "**GPU** | kernel() | Ejecuto la funcion kernel\n",
        "CPU | datetime.now() | Se lee el tiempo final del bucle\n",
        "**GPU** | cuda.memcpy_dtoh() | Copio el vector resultado de la memoria GPU a CPU\n",
        "CPU | round() | Redondeo de los elementos de los vectores\n",
        "CPU | datetime.now() | Se lee el tiempo final total"
      ]
    },
    {
      "cell_type": "markdown",
      "metadata": {
        "id": "t6bNmhvNGIzY"
      },
      "source": [
        "### Conclusiones GPU:\n",
        "\n",
        "Esta forma de ejecucion es similar a la anterior en gran parte, pero utiliza las ventajas de la paralelizacion mediante la bliblioteca CUDA y la ejecucion en hilos. Estas ventajas mencionadas corresponden a que se puede realizar una operacion simple por cada elemento del vector en cada hilo, los cuales se dividen en las distintas (y muchas) ALUs de la GPU. De esta forma puede operarse de forma concurrente y a una velocidad mucho mayor que una ejecucion secuencial.\n",
        "\n",
        "Sin embargo, esta forma tambien tiene sus desventajas, y como se puede ver en el codigo de arriba, una de ellas es que se debe escribir el codigo en lenguaje C modificado (CUDA) para que pueda ser interpretado por el kernel. Esto es asi ya que la GPU no es inteligente y se le debe explicitar toda operacion de la forma mas simple posible.\n",
        "\n",
        "Otra desventaja se puede ver cuando la cantidad de elementos no es muy alta, en donde la ejecucion de forma paralela tarda mas que la secuencial en total. Esto ocurre porque es mayor el tiempo que tarda la CPU en hacer las asignaciones de memoria y otras configuraciones antes de ejecutar la funcion kernel y luego, aunque la ejecucion del bucle de inversion tarda menos de forma paralela, el tiempo total de todo el algoritmo es mayor que el secuencial.\n",
        "\n",
        "Por ejemplo, para un vector de 100 elementos el tiempo del bucle (que en este caso son los hilos) de inversion es cercano a 0,28 ms y el tiempo total de ejecucion es cercano a 5,34 ms. En cambio, para un vector de 10.000 elementos, el tiempo de ejecucion de la inversion es cercano a 0,33 ms y el tiempo total es cercano a 107,89 ms.\n",
        "\n",
        "Por lo explicado, esta forma de ejecucion seria mejor utilizarla para los casos en donde los datos a procesar son independientes entre si (en este caso los elementos del vector) y cuando son mucha cantidad de datos, ya que cada hilo resuelve una operacion en paralelo sin necesidad de esperar a las demas operaciones."
      ]
    },
    {
      "cell_type": "markdown",
      "metadata": {
        "id": "CCT36krdiNJE"
      },
      "source": [
        "## Bibliografia:\n",
        "\n",
        "\n",
        "\n",
        "*   Ejercicios con CUDA de NVIDIA - https://www.nvidia.co.kr/content/cudazone/download/showcase/kr/Exercises-copy-kernel-launch-reverse.pdf\n",
        "*   Carpeta de ejercicios de ejemplo y documentacion de la catedra - https://github.com/wvaliente/SOA_HPC/tree/main/Ejercicios\n",
        "*   Material de clase de Sistemas Operativos Avanzados - http://www.so-unlam.net.ar/wiki/index.php/PUBLICO:HPC\n",
        "*   Introduccion a Google Colaboratory - https://colab.research.google.com/notebooks/intro.ipynb\n",
        "*   Google Colab Forms - https://colab.research.google.com/notebooks/forms.ipynb \n",
        "*   Errors in Python - https://docs.python.org/3/tutorial/errors.html\n",
        "\n",
        "\n"
      ]
    }
  ]
}